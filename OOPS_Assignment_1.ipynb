{
  "nbformat": 4,
  "nbformat_minor": 0,
  "metadata": {
    "colab": {
      "provenance": [],
      "authorship_tag": "ABX9TyNS91lkcH894HH3xUMGAHqm",
      "include_colab_link": true
    },
    "kernelspec": {
      "name": "python3",
      "display_name": "Python 3"
    },
    "language_info": {
      "name": "python"
    }
  },
  "cells": [
    {
      "cell_type": "markdown",
      "metadata": {
        "id": "view-in-github",
        "colab_type": "text"
      },
      "source": [
        "<a href=\"https://colab.research.google.com/github/Conqueroroffortunes/M09_Oops/blob/main/OOPS_Assignment_1.ipynb\" target=\"_parent\"><img src=\"https://colab.research.google.com/assets/colab-badge.svg\" alt=\"Open In Colab\"/></a>"
      ]
    },
    {
      "cell_type": "code",
      "execution_count": null,
      "metadata": {
        "id": "wM8jOXWAGJ6u"
      },
      "outputs": [],
      "source": []
    },
    {
      "cell_type": "markdown",
      "source": [
        "_Q_01.Explain Class and Object with respect to Object-Oriented Programming. Give a suitable example."
      ],
      "metadata": {
        "id": "PZ4C9Po4G8ts"
      }
    },
    {
      "cell_type": "code",
      "source": [
        "'''\n",
        "\n",
        "* A class is a blueprint or template for creating objects.\n",
        "It defines the properties (attributes) and methods (functions) that objects of\n",
        "that class will have. Exampe we can think of it as a cookie cutter; it defines\n",
        "the shape of the cookie, but it's not the cookie itself.\n",
        "\n",
        "* An object is an instance of a class. It is a concrete realization of the class,\n",
        "with its own specific values for the attributes defined in the class. We can\n",
        "think of it as an actual cookie made from the cookie cutter.\n",
        "\n",
        "'''\n",
        "\n",
        "class Dog:\n",
        "    def __init__(self, name, breed, color):\n",
        "        self.name = name\n",
        "        self.breed = breed\n",
        "        self.color = color\n",
        "    def bark(self):\n",
        "        print(\"Woof!\")\n",
        "dog1 = Dog(\"Buddy\", \"Golden Retriever\", \"Brown\")\n",
        "dog2 = Dog(\"Max\", \"Labrador\", \"Black\")\n",
        "\n",
        "#Dog is a class that defines the properties (name), (breed), (color) and a method (bark) of a dog.\n",
        "#dog1 and dog2 are objects of the Dog class. They have their own specific values for the attributes.\n"
      ],
      "metadata": {
        "id": "3kfpDUX6HBCp"
      },
      "execution_count": 18,
      "outputs": []
    },
    {
      "cell_type": "markdown",
      "source": [
        "_Q_02.  Name the four pillars of OOPs."
      ],
      "metadata": {
        "id": "H1lYIDmlIcDx"
      }
    },
    {
      "cell_type": "code",
      "source": [
        "\n",
        "#Name of the four pillars of OOPs:\n",
        "#  1. Encapsulation\n",
        "#  2. Inheritance\n",
        "#  3. Polymorphism\n",
        "#  4. Abstraction"
      ],
      "metadata": {
        "id": "ftdYBocIIeZc"
      },
      "execution_count": 19,
      "outputs": []
    },
    {
      "cell_type": "markdown",
      "source": [
        "Q_03. Explain why the __init__() function is used. Give a suitable example."
      ],
      "metadata": {
        "id": "NNCu2wEZJT4t"
      }
    },
    {
      "cell_type": "code",
      "source": [
        "'''   The __init__() function is a special method in Python classes called a constructor.\n",
        "It is automatically invoked when an object of the class is created.\n",
        "Its primary purpose is to initialize the object's attributes with initial values.\n",
        "\n",
        "'''\n",
        "class Dog:\n",
        "    def __init__(self, name, breed):\n",
        "        self.name = name\n",
        "        self.breed = breed\n",
        "# Below is the code of  Creating objects\n",
        "dog1 = Dog(\"Buddy\", \"Golden Retriever\")\n",
        "dog2 = Dog(\"Max\", \"Labrador\")"
      ],
      "metadata": {
        "id": "wtdyxMZWJVWt"
      },
      "execution_count": 20,
      "outputs": []
    },
    {
      "cell_type": "markdown",
      "source": [
        "Q_04. Why self is used in OOPs?"
      ],
      "metadata": {
        "id": "T_BcyhA6J9Qz"
      }
    },
    {
      "cell_type": "code",
      "source": [
        "# Answer:\n",
        "# self in Python represents the instance of a class. It's a mandatory parameter for instance methods.\n",
        "# It's used to access and modify the attributes (instance variables) of an object.\n",
        "# Helps distinguish between attributes belonging to the class and those belonging to a specific object.\n",
        "# Explicitly using self makes code more readable and maintainable.\n"
      ],
      "metadata": {
        "id": "TYxM6z5xKE7O"
      },
      "execution_count": 21,
      "outputs": []
    },
    {
      "cell_type": "markdown",
      "source": [
        "Q_05. What is inheritance? Give an example for each type of inheritance."
      ],
      "metadata": {
        "id": "Cun_3s91K0_m"
      }
    },
    {
      "cell_type": "code",
      "source": [
        "'''\n",
        "  Inheritance:\n",
        "    Inheritance is a fundamental concept in object-oriented programming (Oops)\n",
        "    that allows you to create new classes (derived classes or subclasses)\n",
        "    based on existing classes (base classes or parent classes).\n",
        "    This promotes code reusability and helps organize complex relationships between objects.\n",
        "\n",
        "'''\n",
        "\n",
        "# Single Inheritance\n",
        "\n",
        "class Animal:\n",
        "    def speak(self):\n",
        "        print(\"Animal speaks\")\n",
        "class Dog(Animal):\n",
        "    def bark(self):\n",
        "        print(\"Woof!\")\n",
        "\n",
        "# Multiple Inheritance:\n",
        "\n",
        "class Flyer:\n",
        "    def fly(self):\n",
        "        print(\"I can fly\")\n",
        "class Swimmer:\n",
        "    def swim(self):\n",
        "        print(\"I can swim\")\n",
        "class Duck(Flyer, Swimmer):\n",
        "    pass\n",
        "\n",
        "# Multi-level Inheritance:\n",
        "\n",
        "class Animal:\n",
        "    def speak(self):\n",
        "        print(\"Animal speaks\")\n",
        "class Mammal(Animal):\n",
        "    def feed_young(self):\n",
        "        print(\"Feeding young with milk\")\n",
        "class Dog(Mammal):\n",
        "    def bark(self):\n",
        "        print(\"Woof!\")\n"
      ],
      "metadata": {
        "id": "9Cq3w5ldK4mJ"
      },
      "execution_count": 22,
      "outputs": []
    }
  ]
}