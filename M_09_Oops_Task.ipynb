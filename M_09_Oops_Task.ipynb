{
  "nbformat": 4,
  "nbformat_minor": 0,
  "metadata": {
    "colab": {
      "provenance": []
    },
    "kernelspec": {
      "name": "python3",
      "display_name": "Python 3"
    },
    "language_info": {
      "name": "python"
    }
  },
  "cells": [
    {
      "cell_type": "code",
      "execution_count": null,
      "metadata": {
        "id": "llvUSP0Co0AK"
      },
      "outputs": [],
      "source": []
    },
    {
      "cell_type": "markdown",
      "source": [
        "  Q_01)"
      ],
      "metadata": {
        "id": "ZXzZ9_Kp-rnx"
      }
    },
    {
      "cell_type": "code",
      "source": [
        "''' Q_01) Below is a vehicle class with an init method having instance variables as name_of_vehicle, max_speed\n",
        "and average_of_vehicle.\n",
        "'''\n",
        "\n",
        "class Vehicle:\n",
        "    def __init__(self, name_of_vehicle, max_speed, average_of_vehicle):\n",
        "        self.name_of_vehicle = name_of_vehicle\n",
        "        self.max_speed = max_speed\n",
        "        self.average_of_vehicle = average_of_vehicle"
      ],
      "metadata": {
        "id": "PMcnpq27-t1F"
      },
      "execution_count": 1,
      "outputs": []
    },
    {
      "cell_type": "markdown",
      "source": [
        "  Q_02."
      ],
      "metadata": {
        "id": "6gloopsy_SIi"
      }
    },
    {
      "cell_type": "code",
      "source": [
        "''' Q_02. Below is a code to create a child class car from the vehicle class created in Que 1, which will inherit the vehicle class.\n",
        "Create a method named seating_capacity which takes capacity as an argument and returns the name of\n",
        "the vehicle and its seating capacity.\n",
        "'''\n",
        "\n",
        "# class vehicle is same as the que 1 answer\n",
        "class Vehicle:\n",
        "    def __init__(self, name_of_vehicle, max_speed, average_of_vehicle):\n",
        "        self.name_of_vehicle = name_of_vehicle\n",
        "        self.max_speed = max_speed\n",
        "        self.average_of_vehicle = average_of_vehicle\n",
        "\n",
        "class Car(Vehicle):\n",
        "    def seating_capacity(self, capacity):\n",
        "        return f\"{self.name_of_vehicle} has a seating capacity of {capacity} people.\"\n",
        "\n",
        "car1 = Car(\"Toyota Camry\", 220, 15)\n",
        "print(car1.seating_capacity(5))"
      ],
      "metadata": {
        "colab": {
          "base_uri": "https://localhost:8080/"
        },
        "id": "08xIQbCc_Sir",
        "outputId": "71d202b8-4c48-446b-929d-6c95291fb386"
      },
      "execution_count": 4,
      "outputs": [
        {
          "output_type": "stream",
          "name": "stdout",
          "text": [
            "Toyota Camry has a seating capacity of 5 people.\n"
          ]
        }
      ]
    },
    {
      "cell_type": "markdown",
      "source": [
        "  Q_03.What is multiple inheritance? Write a python code to demonstrate multiple inheritance."
      ],
      "metadata": {
        "id": "U9LLqdigABFm"
      }
    },
    {
      "cell_type": "code",
      "source": [
        "'''In Multiple inheritance the class can inherit attributes and\n",
        "methods from more than one parent class.\n",
        "'''\n",
        "# Below is the python code to demonstrate multiple inheritance.\n",
        "\n",
        "class Animal:\n",
        "    def speak(self):\n",
        "        print(\"Animal speaks\")\n",
        "class Flyable:\n",
        "    def fly(self):\n",
        "        print(\"I can fly\")\n",
        "class Bat(Animal, Flyable):\n",
        "    pass\n",
        "bat = Bat()\n",
        "bat.speak()\n",
        "bat.fly()"
      ],
      "metadata": {
        "colab": {
          "base_uri": "https://localhost:8080/"
        },
        "id": "Ryk0WRqFADjN",
        "outputId": "7e87ccde-20a9-4963-ba7d-d83339972128"
      },
      "execution_count": 7,
      "outputs": [
        {
          "output_type": "stream",
          "name": "stdout",
          "text": [
            "Animal speaks\n",
            "I can fly\n"
          ]
        }
      ]
    },
    {
      "cell_type": "markdown",
      "source": [
        "  Q_04.What are getter and setter in python? Create a class and create a getter and a setter method in this\n",
        "class."
      ],
      "metadata": {
        "id": "4_429-LOBT9z"
      }
    },
    {
      "cell_type": "code",
      "source": [
        "''' Q_04.\n",
        "    Getters and setters are methods used in object-oriented programming to control\n",
        "    access to an object's attributes.Where we can perform checks on values before assigning them to attributes,\n",
        "    we can perform calculations when retrieving or setting attribute values.\n",
        "    and also we can control access to attributes and maintain consistency.\n",
        "\n",
        "Below is a code to Create a class and create a getter and a setter method in this\n",
        "class.\n",
        "\n",
        "'''\n",
        "\n",
        "class Person:\n",
        "    def __init__(self, age):\n",
        "        self._age = age\n",
        "    @property\n",
        "    def age(self):\n",
        "        print(\"Getting value...\")\n",
        "        return self._age\n",
        "\n",
        "    @age.setter\n",
        "    def age(self, value):\n",
        "        if value >= 0:\n",
        "            print(\"Setting value...\")\n",
        "            self._age = value\n",
        "        else:\n",
        "            print(\"Age cannot be negative\")\n",
        "\n",
        "person = Person(25)\n",
        "print(person.age)\n",
        "person.age = 30\n",
        "print(person.age)\n",
        "person.age = -5\n"
      ],
      "metadata": {
        "colab": {
          "base_uri": "https://localhost:8080/"
        },
        "id": "ZrpcCCk4BVv-",
        "outputId": "36d3e0d7-8ee7-4678-bbbc-fb9fbd94d3cd"
      },
      "execution_count": 8,
      "outputs": [
        {
          "output_type": "stream",
          "name": "stdout",
          "text": [
            "Getting value...\n",
            "25\n",
            "Setting value...\n",
            "Getting value...\n",
            "30\n",
            "Age cannot be negative\n"
          ]
        }
      ]
    },
    {
      "cell_type": "markdown",
      "source": [
        "  Q_05. What is method overriding in python? Write a python code to demonstrate method overriding."
      ],
      "metadata": {
        "id": "DS6_HpohDGum"
      }
    },
    {
      "cell_type": "code",
      "source": [
        "''' Q_05.\n",
        "        Method overriding is a feature in object-oriented programming where a subclass provides a\n",
        "        specific implementation of a method that is already provided by its parent class.\n",
        "\n",
        "Below is a python code to demonstrate method overriding.\n",
        "'''\n",
        "\n",
        "class Animal:\n",
        "    def speak(self):\n",
        "        print(\"Animal speaks\")\n",
        "class Dog(Animal):\n",
        "    def speak(self):\n",
        "        print(\"Woof!\")\n",
        "\n",
        "animal = Animal()\n",
        "dog = Dog()\n",
        "animal.speak()\n",
        "dog.speak()"
      ],
      "metadata": {
        "colab": {
          "base_uri": "https://localhost:8080/"
        },
        "id": "xVtBtEwaDIfN",
        "outputId": "38452952-c77a-4b9d-bdbc-18fe28385134"
      },
      "execution_count": 11,
      "outputs": [
        {
          "output_type": "stream",
          "name": "stdout",
          "text": [
            "Animal speaks\n",
            "Woof!\n"
          ]
        }
      ]
    }
  ]
}