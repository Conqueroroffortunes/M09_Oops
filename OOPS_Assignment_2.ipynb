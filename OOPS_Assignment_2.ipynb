{
  "nbformat": 4,
  "nbformat_minor": 0,
  "metadata": {
    "colab": {
      "provenance": [],
      "authorship_tag": "ABX9TyPlqDhtrwek8Tg7N2MeNoCI",
      "include_colab_link": true
    },
    "kernelspec": {
      "name": "python3",
      "display_name": "Python 3"
    },
    "language_info": {
      "name": "python"
    }
  },
  "cells": [
    {
      "cell_type": "markdown",
      "metadata": {
        "id": "view-in-github",
        "colab_type": "text"
      },
      "source": [
        "<a href=\"https://colab.research.google.com/github/Conqueroroffortunes/M09_Oops/blob/main/OOPS_Assignment_2.ipynb\" target=\"_parent\"><img src=\"https://colab.research.google.com/assets/colab-badge.svg\" alt=\"Open In Colab\"/></a>"
      ]
    },
    {
      "cell_type": "code",
      "execution_count": null,
      "metadata": {
        "id": "eT-udc_s486W"
      },
      "outputs": [],
      "source": []
    },
    {
      "cell_type": "markdown",
      "source": [
        "Q_01. What is Abstraction in OOps? Explain with an example."
      ],
      "metadata": {
        "id": "HO5zwwAJ5KMe"
      }
    },
    {
      "cell_type": "code",
      "source": [
        "'''Answer:\n",
        "            Abstraction is the process of hiding complex implementation details and\n",
        "            providing a simplified view of the system. It focuses on essential features\n",
        "            and functionality, while ignoring irrelevant details. This makes the\n",
        "            system easier to understand, use and maintain.\n",
        "\n",
        "Below is the example where we Consider a car. When you drive a car, you\n",
        "interact with the steering wheel, brakes, accelerator, and gear, but you\n",
        "don't need to know the internal workings of the engine, transmission, or\n",
        "other complex components. The car's interface (steering wheel, etc.)\n",
        "provides an abstraction of its internal complexity.\n",
        "In this example, the Car class represents an abstraction of a real-world car.\n",
        "It provides methods for starting, stopping, and accelerating the car, but it\n",
        "doesn't reveal the underlying mechanics of how these actions are performed.\n",
        "The user only needs to know how to interact with the car at a high level.\n",
        "'''\n",
        "class Car:\n",
        "    def start(self):\n",
        "        print(\"Car started\")\n",
        "    def stop(self):\n",
        "        print(\"Car stopped\")\n",
        "    def accelerate(self):\n",
        "        print(\"Car accelerating\")"
      ],
      "metadata": {
        "id": "gMUURiWi5O7T"
      },
      "execution_count": 1,
      "outputs": []
    },
    {
      "cell_type": "markdown",
      "source": [
        "Q_02. Differentiate between Abstraction and Encapsulation. Explain with an example."
      ],
      "metadata": {
        "id": "7odkxmpm6G4R"
      }
    },
    {
      "cell_type": "code",
      "source": [
        "'''Abstraction focuses on the essential features of an object, hiding unnecessary\n",
        "details. It's about providing a simplified view of the world.\n",
        "Think of it as looking at a car: you know it has a steering wheel, brakes,\n",
        "and an accelerator, but you don't need to know the intricate details of the\n",
        "engine or transmission to drive it'''\n",
        "\n",
        "class Car:\n",
        "    def start(self):\n",
        "        print(\"Car started\")\n",
        "    def stop(self):\n",
        "        print(\"Car stopped\")\n",
        "\n",
        "'''Encapsulation involves bundling data (attributes) and methods that operate on\n",
        "that data within a single unit (class). It's about protecting data from accidental\n",
        "modification and misuse. Think of it as a capsule that protects its contents.\n",
        "'''\n",
        "\n",
        "class Car:\n",
        "    def __init__(self, make, model, year):\n",
        "        self.__make = make  # Encapsulated attribute\n",
        "        self.__model = model\n",
        "        self.__year = year\n",
        "    def get_make(self):\n",
        "        return self.__make\n",
        "    def set_make(self, make):\n",
        "        self.__make = make"
      ],
      "metadata": {
        "id": "vaw43tXY5eMs"
      },
      "execution_count": 2,
      "outputs": []
    },
    {
      "cell_type": "markdown",
      "source": [
        "Q_03.  What is abc module in python? Why is it used?"
      ],
      "metadata": {
        "id": "aOZ05gS46xLk"
      }
    },
    {
      "cell_type": "code",
      "source": [
        "'''The abc module in Python provides the infrastructure for defining abstract base classes (ABCs).\n",
        "An abstract base class is a class that cannot be instantiated directly.\n",
        "It serves as a blueprint for other classes to inherit from. ABCs define a common interface\n",
        "for derived classes, ensuring that they implement certain methods\n",
        "\n",
        "Used to Ensures that subclasses implement specific methods and Allows for\n",
        "type checking and polymorphism at runtime and mainly Improves code structure and readability.'''\n",
        "\n"
      ],
      "metadata": {
        "id": "vGk9R-oI60mq"
      },
      "execution_count": 4,
      "outputs": []
    },
    {
      "cell_type": "markdown",
      "source": [
        "Q_04.  How can we achieve data abstraction?"
      ],
      "metadata": {
        "id": "YXEKNP4F7q6L"
      }
    },
    {
      "cell_type": "code",
      "source": [
        "'''\n",
        "We can achieve data abstraction with - Abstract Base Classes (ABCs)\n",
        "\n",
        "Import the abc module: This provides the necessary tools for creating abstract classes.\n",
        "Define an abstract class: Use the ABC class as a base class and abstractmethod decorator\n",
        "for methods without implementation.\n",
        "Create concrete subclasses: Inherit from the abstract class and provide implementations\n",
        "for the abstract methods.\n",
        "'''\n",
        "\n",
        "from abc import ABC, abstractmethod\n",
        "class Shape(ABC):\n",
        "    @abstractmethod\n",
        "    def area(self):\n",
        "        pass\n",
        "class Rectangle(Shape):\n",
        "    def __init__(self, width, height):\n",
        "        self.width = width\n",
        "        self.height = height\n",
        "    def area(self):\n",
        "        return self.width * self.height"
      ],
      "metadata": {
        "id": "QmxtGoSI7wK7"
      },
      "execution_count": 7,
      "outputs": []
    },
    {
      "cell_type": "markdown",
      "source": [
        "Q_05.  Can we create an instance of an abstract class? Explain your answer."
      ],
      "metadata": {
        "id": "SoDogJ-R8QJM"
      }
    },
    {
      "cell_type": "code",
      "source": [
        "'''\n",
        "No, you cannot create an instance of an abstract class in Python.\n",
        "An abstract class serves as a blueprint for other classes. It defines a\n",
        "common interface that subclasses must implement. By enforcing this structure,\n",
        "abstract classes promote code consistency and maintainability.\n",
        "Attempting to create an instance of an abstract class will result in a ERROR (TypeError).\n",
        "\n",
        "'''"
      ],
      "metadata": {
        "id": "1ISfwEL08TRG"
      },
      "execution_count": null,
      "outputs": []
    }
  ]
}